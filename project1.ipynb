{
  "nbformat": 4,
  "nbformat_minor": 0,
  "metadata": {
    "kernelspec": {
      "display_name": "Python 3",
      "language": "python",
      "name": "python3"
    },
    "language_info": {
      "codemirror_mode": {
        "name": "ipython",
        "version": 3
      },
      "file_extension": ".py",
      "mimetype": "text/x-python",
      "name": "python",
      "nbconvert_exporter": "python",
      "pygments_lexer": "ipython3",
      "version": "3.8.3"
    },
    "colab": {
      "provenance": [],
      "collapsed_sections": [
        "2ozy5QZ7TO0h",
        "Pv4ZXHDGTO0i",
        "f5G-5-mLTO0o",
        "QEJVOI2ITO0p",
        "3U2Ptei9TO0p",
        "t5zSUEkpTO0p",
        "30C_2dZDTO0q",
        "Azx6m--9TO0q",
        "JEWbcie_TO0q"
      ],
      "include_colab_link": true
    },
    "accelerator": "GPU"
  },
  "cells": [
    {
      "cell_type": "markdown",
      "metadata": {
        "id": "view-in-github",
        "colab_type": "text"
      },
      "source": [
        "<a href=\"https://colab.research.google.com/github/raghav96/AI_Algorithms/blob/master/project1.ipynb\" target=\"_parent\"><img src=\"https://colab.research.google.com/assets/colab-badge.svg\" alt=\"Open In Colab\"/></a>"
      ]
    },
    {
      "cell_type": "markdown",
      "metadata": {
        "id": "Kx7LvWCdTO0e"
      },
      "source": [
        "## ELEC5307-2021-S2: Project 1 report\n",
        "\n",
        "### Name (SID): Raghav Ravisankar (510590684)"
      ]
    },
    {
      "cell_type": "markdown",
      "metadata": {
        "id": "XiDb_cU2TO0h"
      },
      "source": [
        "Please follow the instructions carefully:\n",
        "- This project is based on Cifar-10 dataset. The basic loading operations are added already. Please do not use other dataset.\n",
        "- Remove the corresponding `e.g.` and fill in all the blanks in this file, including some codes in Part 1, your choices for Part 2, your task for Part 3, and the analyses for your choices, specification of your computer, etc.\n",
        "- Please do not change the format of this report.\n",
        "- In your analyses, you can add math functions and graphs.\n",
        "- Please make clear comments and references for any codes written by yourself or copied from other sources."
      ]
    },
    {
      "cell_type": "markdown",
      "metadata": {
        "id": "2ozy5QZ7TO0h"
      },
      "source": [
        "### Part 0: Prepare for Colab\n",
        "\n",
        "The default colab uses CPU, you can add GPU resources in Runtime->Change runtime type->dropdown, select GPU->save\n",
        "\n",
        "**Note: the following code is written for cpu, you need to allocate data and network to GPU on your own if you want to utilize GPU devices.**"
      ]
    },
    {
      "cell_type": "markdown",
      "metadata": {
        "id": "Pv4ZXHDGTO0i"
      },
      "source": [
        "### Part 1: Baseline model\n",
        "You need to run this model successfully to get the marks. You should finish the codes that are used to split the training dataset into training set (45000 images) and validation set (5000 images) and draw the loss curve for training loss and validation loss. "
      ]
    },
    {
      "cell_type": "markdown",
      "metadata": {
        "id": "tDk-j8jOTO0i"
      },
      "source": [
        "### 1.1 prepare data"
      ]
    },
    {
      "cell_type": "code",
      "metadata": {
        "id": "xE7Ul2qsTO0j"
      },
      "source": [
        "# useful packages\n",
        "import torch\n",
        "import torchvision\n",
        "import torchvision.transforms as transforms\n",
        "from torch import nn"
      ],
      "execution_count": null,
      "outputs": []
    },
    {
      "cell_type": "code",
      "metadata": {
        "id": "KG5lJ_jnTO0j",
        "colab": {
          "base_uri": "https://localhost:8080/"
        },
        "outputId": "ba88d746-aaa2-4ef1-8650-8973a308e295"
      },
      "source": [
        "transform = transforms.ToTensor()\n",
        "\n",
        "trainset = torchvision.datasets.CIFAR10(root='/tmp/CIFAR10', train=True,\n",
        "                                        download=True, transform=transform)\n",
        "trainset = [item for item in trainset]\n",
        "trainloader = torch.utils.data.DataLoader(trainset, batch_size=4,\n",
        "                                          shuffle=True, num_workers=2)\n",
        "\n",
        "testset = torchvision.datasets.CIFAR10(root='/tmp/CIFAR10', train=False,\n",
        "                                       download=True, transform=transform)\n",
        "testset = [item for item in testset]\n",
        "testloader = torch.utils.data.DataLoader(testset, batch_size=4,\n",
        "                                         shuffle=False, num_workers=2)\n",
        "\n",
        "classes = ('plane', 'car', 'bird', 'cat',\n",
        "           'deer', 'dog', 'frog', 'horse', 'ship', 'truck')\n"
      ],
      "execution_count": null,
      "outputs": [
        {
          "output_type": "stream",
          "name": "stdout",
          "text": [
            "Files already downloaded and verified\n",
            "Files already downloaded and verified\n"
          ]
        }
      ]
    },
    {
      "cell_type": "markdown",
      "metadata": {
        "id": "9MhBBsEtTO0k"
      },
      "source": [
        "### 1.2 split the training data into training and validation\n",
        "In most of the cases, you are given the test set, so you need to prepare some validation data to evaluate your model during training stage. You need to make a validation dataset that contains 5000 training images, and the rest 45000 images are used as the new training set."
      ]
    },
    {
      "cell_type": "code",
      "metadata": {
        "id": "uXfHa3txTO0l",
        "colab": {
          "base_uri": "https://localhost:8080/"
        },
        "outputId": "70c92117-a69a-4c66-8e76-a09654ec11c9"
      },
      "source": [
        "from torch.utils.data import random_split\n",
        "\n",
        "# Your split codes here.\n",
        "# You need to random select the 5000 validation images \n",
        "new_trainset, validationset = random_split(trainset, [45000, 5000])\n",
        "print(\"Length of training set = \", len(new_trainset))\n",
        "print(\"Length of validation set = \", len(validationset))\n",
        "\n",
        "new_train_loader = torch.utils.data.DataLoader(new_trainset, batch_size=4, shuffle=True, num_workers=2, pin_memory = True)\n",
        "validation_loader = torch.utils.data.DataLoader(validationset, batch_size=4, shuffle=False, num_workers=2, pin_memory = True)\n",
        "print(\"Number of batches for training set = \", len(new_trainset)/4)\n",
        "print(\"Number of batches for validation set = \", len(validationset)/4)\n",
        "\n",
        "# besides, you can also make modifications for faster training \n",
        "# by selecting a subset of the original dataset.\n",
        "\n",
        "small_trainset, large_trainset = random_split(new_trainset, [25000, 20000])\n",
        "small_train_loader = torch.utils.data.DataLoader(small_trainset, batch_size=4, shuffle=True, num_workers=2, pin_memory = True)\n",
        "print(\"Length of small training set for faster training =\", len(small_trainset))\n",
        "# Batch size is 4, so number of batches is total size of training set divided by batch size\n",
        "print(\"Number of batches in small training set = \", len(small_trainset)/4)"
      ],
      "execution_count": null,
      "outputs": [
        {
          "output_type": "stream",
          "name": "stdout",
          "text": [
            "Length of training set =  45000\n",
            "Length of validation set =  5000\n",
            "Number of batches for training set =  11250.0\n",
            "Number of batches for validation set =  1250.0\n",
            "Length of small training set for faster training = 25000\n",
            "Number of batches in small training set =  6250.0\n"
          ]
        }
      ]
    },
    {
      "cell_type": "markdown",
      "metadata": {
        "id": "zVFDoWz4TO0m"
      },
      "source": [
        "### 1.3 Define a Baseline Convolution Neural Network"
      ]
    },
    {
      "cell_type": "code",
      "metadata": {
        "id": "6jrEMUi-TO0m",
        "colab": {
          "base_uri": "https://localhost:8080/"
        },
        "outputId": "64b140a8-e002-47c7-9cc9-ba32b2598e2c"
      },
      "source": [
        "class Net(nn.Module):\n",
        "    def __init__(self):\n",
        "        super(Net, self).__init__()\n",
        "        self.conv1 = nn.Conv2d(3, 6, 5)\n",
        "        self.relu1 = nn.ReLU()\n",
        "        self.pool = nn.MaxPool2d(2, 2)\n",
        "        self.conv2 = nn.Conv2d(6, 16, 5)\n",
        "        self.relu2 = nn.ReLU()\n",
        "        self.fc1 = nn.Linear(16 * 5 * 5, 120)\n",
        "        self.relu3 = nn.ReLU()\n",
        "        self.fc2 = nn.Linear(120, 84)\n",
        "        self.relu4 = nn.ReLU()\n",
        "        self.fc3 = nn.Linear(84, 10)\n",
        "\n",
        "    def forward(self, x):\n",
        "        x = self.pool(self.relu1(self.conv1(x)))\n",
        "        x = self.pool(self.relu2(self.conv2(x)))\n",
        "        x = x.view(-1, 16 * 5 * 5)\n",
        "        x = self.relu3(self.fc1(x))\n",
        "        x = self.relu4(self.fc2(x))\n",
        "        x = self.fc3(x)\n",
        "        return x\n",
        "\n",
        "\n",
        "net = Net()\n",
        "net.cuda()"
      ],
      "execution_count": null,
      "outputs": [
        {
          "output_type": "execute_result",
          "data": {
            "text/plain": [
              "Net(\n",
              "  (conv1): Conv2d(3, 6, kernel_size=(5, 5), stride=(1, 1))\n",
              "  (relu1): ReLU()\n",
              "  (pool): MaxPool2d(kernel_size=2, stride=2, padding=0, dilation=1, ceil_mode=False)\n",
              "  (conv2): Conv2d(6, 16, kernel_size=(5, 5), stride=(1, 1))\n",
              "  (relu2): ReLU()\n",
              "  (fc1): Linear(in_features=400, out_features=120, bias=True)\n",
              "  (relu3): ReLU()\n",
              "  (fc2): Linear(in_features=120, out_features=84, bias=True)\n",
              "  (relu4): ReLU()\n",
              "  (fc3): Linear(in_features=84, out_features=10, bias=True)\n",
              ")"
            ]
          },
          "metadata": {},
          "execution_count": 13
        }
      ]
    },
    {
      "cell_type": "markdown",
      "metadata": {
        "id": "onqxyGKJTO0m"
      },
      "source": [
        "### 1.4 Define a Loss function and optimizer"
      ]
    },
    {
      "cell_type": "code",
      "metadata": {
        "id": "JV4PtescTO0n"
      },
      "source": [
        "import torch.optim as optim\n",
        "\n",
        "criterion = nn.CrossEntropyLoss()\n",
        "optimizer = optim.SGD(net.parameters(), lr=0.001, momentum=0.9)\n"
      ],
      "execution_count": null,
      "outputs": []
    },
    {
      "cell_type": "markdown",
      "metadata": {
        "id": "Ui54cGRnTO0n"
      },
      "source": [
        "### 1.5 Train the network"
      ]
    },
    {
      "cell_type": "code",
      "metadata": {
        "id": "wUp26tT1TO0n",
        "colab": {
          "base_uri": "https://localhost:8080/"
        },
        "outputId": "59d93ec0-19e7-46cc-b6db-576f89506753"
      },
      "source": [
        "# This function does the training on the training set, we are using\n",
        "# the small training set\n",
        "def train(num_epoch, trainset_loader, validationset_loader, net, criterion, \n",
        "          optimizer, train_loss, validation_loss\n",
        "          #train_acc, \n",
        "          #validation_acc\n",
        "          ):\n",
        "  print('Training Started')\n",
        "  for epoch in range(num_epoch):  # loop over the dataset multiple times\n",
        "\n",
        "      running_loss = 0.0\n",
        "      # num_pred = 0\n",
        "      # num_correct_pred = 0\n",
        "      for i, data in enumerate(trainset_loader, 0):\n",
        "          # get the inputs and set it to the GPU for faster calculation\n",
        "          labels = data[1].cuda()\n",
        "          inputs = data[0].cuda()\n",
        "          # zero the parameter gradients\n",
        "          optimizer.zero_grad()\n",
        "\n",
        "          # forward + backward + optimize\n",
        "          outputs = net(inputs)\n",
        "\n",
        "          # Making calculations for predictions \n",
        "          # and number of correct predictions\n",
        "          predictions = outputs.argmax(dim = 1)\n",
        "          \n",
        "          # creates a list with 1 if prediction is right, \n",
        "          # 0 if prediction is wrong\n",
        "          correct_pred = (predictions == labels)\n",
        "          num_pred += predictions.size(0)\n",
        "          num_correct_pred += correct_pred.sum()\n",
        "\n",
        "          loss = criterion(outputs, labels)\n",
        "          loss.backward()\n",
        "          optimizer.step()\n",
        "\n",
        "          # print statistics\n",
        "          running_loss += loss.item()\n",
        "          if i % 11250 == 11249:    # print every 6250 mini-batches\n",
        "\n",
        "              # Calculating average loss and accuracy and adding it to list\n",
        "              # to show in graph\n",
        "              avg_loss = running_loss / 11250\n",
        "              train_loss.append(avg_loss)\n",
        "\n",
        "              acc = (num_correct_pred/num_pred) * 100\n",
        "              train_acc.append(acc.cpu())\n",
        "              \n",
        "              print('[%d, %5d] training set loss: %.3f' %\n",
        "                    (epoch + 1, i + 1, running_loss / 11250))\n",
        "              running_loss = 0.0\n",
        "\n",
        "      validation_running_loss = 0.0\n",
        "      validation_num_pred = 0\n",
        "      validation_num_correct_pred = 0\n",
        "      best_acc = 0\n",
        "\n",
        "      for i, data in enumerate(validationset_loader, 0):\n",
        "          # get the inputs and set it to the GPU for faster calculation\n",
        "          labels = data[1].cuda()\n",
        "          inputs = data[0].cuda()\n",
        "          # zero the parameter gradients\n",
        "          optimizer.zero_grad()\n",
        "\n",
        "          # forward + backward + optimize\n",
        "          outputs = net(inputs)\n",
        "\n",
        "          # Making calculations for predictions \n",
        "          # and number of correct predictions\n",
        "          predictions = outputs.argmax(dim = 1)\n",
        "          \n",
        "          # creates a list with 1 if prediction is right, \n",
        "          # 0 if prediction is wrong\n",
        "          validation_correct_pred = (predictions == labels)\n",
        "          validation_num_pred += predictions.size(0)\n",
        "          validation_num_correct_pred += validation_correct_pred.sum()\n",
        "\n",
        "          v_loss = criterion(outputs, labels)\n",
        "          \n",
        "          # No backprop on validation set\n",
        "          #loss.backward()\n",
        "          #optimizer.step()\n",
        "\n",
        "          # print statistics\n",
        "          validation_running_loss += v_loss.item()\n",
        "          if i % 1250 == 1249:    # print every 1250 mini-batches\n",
        "\n",
        "              # Calculating average loss and accuracy and adding it to list\n",
        "              # to show in graph\n",
        "              validation_avg_loss = validation_running_loss / 1250\n",
        "              validation_loss.append(validation_avg_loss)\n",
        "\n",
        "              v_acc = (num_correct_pred/num_pred) * 100\n",
        "              validation_acc.append(v_acc.cpu())\n",
        "              \n",
        "\n",
        "              # Keep track of best accuracy to use in next steps\n",
        "              if (v_acc > best_acc):\n",
        "                best_state_dict = net.state_dict()\n",
        "              print('[%d, %5d] validation set loss: %.3f' %\n",
        "                    (epoch + 1, i + 1, validation_running_loss / 1250))\n",
        "              validation_running_loss = 0.0\n",
        "\n",
        "  print('Finished Training')\n",
        "  return best_state_dict\n",
        "\n",
        "train_loss = []\n",
        "train_acc = []\n",
        "validation_loss = []\n",
        "validation_acc = []\n",
        "\n",
        "# this method allows the neural network to run on colab's cuda, \n",
        "# however it will not work on normal cpu\n",
        "best_state_params = train(20, new_train_loader, validation_loader, net, criterion, \n",
        "          optimizer, train_loss, train_acc, validation_loss, validation_acc)"
      ],
      "execution_count": null,
      "outputs": [
        {
          "output_type": "stream",
          "name": "stdout",
          "text": [
            "Training Started\n",
            "[1, 11250] training set loss: 0.860\n",
            "[1,  1250] validation set loss: 1.433\n",
            "[2, 11250] training set loss: 0.834\n",
            "[2,  1250] validation set loss: 1.524\n",
            "[3, 11250] training set loss: 0.819\n",
            "[3,  1250] validation set loss: 1.533\n",
            "[4, 11250] training set loss: 0.809\n",
            "[4,  1250] validation set loss: 1.499\n",
            "[5, 11250] training set loss: 0.797\n",
            "[5,  1250] validation set loss: 1.546\n",
            "[6, 11250] training set loss: 0.785\n",
            "[6,  1250] validation set loss: 1.572\n",
            "[7, 11250] training set loss: 0.766\n",
            "[7,  1250] validation set loss: 1.612\n",
            "[8, 11250] training set loss: 0.762\n",
            "[8,  1250] validation set loss: 1.576\n",
            "[9, 11250] training set loss: 0.756\n",
            "[9,  1250] validation set loss: 1.622\n",
            "[10, 11250] training set loss: 0.754\n",
            "[10,  1250] validation set loss: 1.699\n",
            "[11, 11250] training set loss: 0.740\n",
            "[11,  1250] validation set loss: 1.726\n",
            "[12, 11250] training set loss: 0.726\n",
            "[12,  1250] validation set loss: 1.666\n",
            "[13, 11250] training set loss: 0.728\n",
            "[13,  1250] validation set loss: 1.740\n",
            "[14, 11250] training set loss: 0.730\n",
            "[14,  1250] validation set loss: 1.735\n",
            "[15, 11250] training set loss: 0.722\n",
            "[15,  1250] validation set loss: 1.821\n",
            "[16, 11250] training set loss: 0.713\n",
            "[16,  1250] validation set loss: 1.972\n",
            "[17, 11250] training set loss: 0.715\n",
            "[17,  1250] validation set loss: 1.857\n",
            "[18, 11250] training set loss: 0.713\n",
            "[18,  1250] validation set loss: 1.818\n",
            "[19, 11250] training set loss: 0.709\n",
            "[19,  1250] validation set loss: 1.816\n",
            "[20, 11250] training set loss: 0.696\n",
            "[20,  1250] validation set loss: 1.910\n",
            "Finished Training\n"
          ]
        }
      ]
    },
    {
      "cell_type": "markdown",
      "metadata": {
        "id": "Ju0C1kJ6TO0o"
      },
      "source": [
        "### 1.6 visualize the loss and accuracy\n",
        "Using the loss of both training data and validation data to evaluate the model. You may need to change some of the codes in 1.5 in order to save the loss into different lists."
      ]
    },
    {
      "cell_type": "code",
      "metadata": {
        "id": "rgFIrgimTO0o",
        "colab": {
          "base_uri": "https://localhost:8080/",
          "height": 295
        },
        "outputId": "d99be225-960a-46fb-fbb2-7a828f3b27ba"
      },
      "source": [
        "import matplotlib.pyplot as plt\n",
        "import numpy as np\n",
        "\n",
        "# functions to show the loss\n",
        "plt.plot(list(range(1, 21)), train_loss, label = \"training loss\")\n",
        "plt.plot(list(range(1, 21)), validation_loss, label = \"validation loss\")\n",
        "plt.ylabel(\"Loss\")\n",
        "plt.xlabel(\"Epochs\")\n",
        "plt.legend()\n",
        "plt.title(\"{} vs {}\".format(\"training loss\", \"validation loss\"))\n",
        "plt.show()"
      ],
      "execution_count": null,
      "outputs": [
        {
          "output_type": "display_data",
          "data": {
            "text/plain": [
              "<Figure size 432x288 with 1 Axes>"
            ],
            "image/png": "[encoded data removed]"
          },
          "metadata": {
            "needs_background": "light"
          }
        }
      ]
    },
    {
      "cell_type": "markdown",
      "metadata": {
        "id": "BXTuTay9TO0o"
      },
      "source": [
        "### 1.7 Eval the trained network"
      ]
    },
    {
      "cell_type": "code",
      "metadata": {
        "id": "W-7WL78lTO0o"
      },
      "source": [
        "def eval_net(net, testloader):\n",
        "    correct = 0\n",
        "    total = 0\n",
        "    with torch.no_grad():\n",
        "        for data in testloader:\n",
        "            images = data[0]\n",
        "            outputs = net(images)\n",
        "            _, predicted = torch.max(outputs.data, 1)\n",
        "            total += labels.size(0)\n",
        "            correct += (predicted == labels).sum().item()\n",
        "\n",
        "    print('Accuracy of the network on the 10000 test images: %d %%' % (\n",
        "        100 * correct / total))\n",
        "\n",
        "eval_net(net, testloader)"
      ],
      "execution_count": null,
      "outputs": []
    },
    {
      "cell_type": "markdown",
      "metadata": {
        "id": "f5G-5-mLTO0o"
      },
      "source": [
        "### Part 2: Hyperparameters Selection\n",
        "Following the instruction file, you need to make choices for each hyperparameters:\n",
        "\n",
        "1. Batch size:\n",
        "2. Base learning rate:\n",
        "3. Number of epochs: "
      ]
    },
    {
      "cell_type": "markdown",
      "metadata": {
        "id": "opRMdmtZTO0p"
      },
      "source": [
        "**Question**: Why do you make such choices? Use some figures, math equations, codes and printout to make analysis."
      ]
    },
    {
      "cell_type": "code",
      "metadata": {
        "id": "3U3n02zITO0p"
      },
      "source": [
        "# Your codes here. \n",
        "# Please do not define the networks again, just make changes to the training procedure, i.e. in the loop, please go through all the potential choices.\n"
      ],
      "execution_count": null,
      "outputs": []
    },
    {
      "cell_type": "markdown",
      "metadata": {
        "id": "QEJVOI2ITO0p"
      },
      "source": [
        "##### your analysis comes here:\n",
        "-----\n",
        "1) \n",
        "\n",
        "2) \n",
        "\n"
      ]
    },
    {
      "cell_type": "markdown",
      "metadata": {
        "id": "3U2Ptei9TO0p"
      },
      "source": [
        "### Part 3: More options\n",
        "\n",
        "Please indicate the **three** tasks you are assigned here:\n",
        "\n",
        "1) Transformation: e.g. Resize (hyperparameters: size, interpolation), ...\n",
        "\n",
        "2) Structure: \n",
        "\n",
        "3) Training procedure: "
      ]
    },
    {
      "cell_type": "markdown",
      "metadata": {
        "id": "Ubm9ejlsTO0p"
      },
      "source": [
        "For your new baseline and the test for different options, you need to write them in **ONE** single `.py` file. You can debug here, but do **NOT** include your codes in the submitted ipynb file. Your codes for this part will be put in the **project1.py** file."
      ]
    },
    {
      "cell_type": "markdown",
      "metadata": {
        "id": "kfTtchuITO0p"
      },
      "source": [
        "**Question**: how do you define your new baseline and why? Please highlight the differences between your new baseline and the previous baseline."
      ]
    },
    {
      "cell_type": "markdown",
      "metadata": {
        "id": "t5zSUEkpTO0p"
      },
      "source": [
        "##### your analysis comes here:\n",
        "-----\n",
        "1) \n",
        "\n",
        "2) \n",
        "\n",
        "\n",
        "_____"
      ]
    },
    {
      "cell_type": "markdown",
      "metadata": {
        "id": "pCL7BV9kTO0q"
      },
      "source": [
        "**Question**: how did you test the three tasks and what did you learn? Please use some figures, math equations and output from your codes to make analysis. "
      ]
    },
    {
      "cell_type": "markdown",
      "metadata": {
        "id": "30C_2dZDTO0q"
      },
      "source": [
        "##### your analysis comes here:\n",
        "-----\n",
        "1) \n",
        "\n",
        "2) \n",
        "\n",
        "\n",
        "_____"
      ]
    },
    {
      "cell_type": "markdown",
      "metadata": {
        "id": "Azx6m--9TO0q"
      },
      "source": [
        "### Reference\n",
        "1. Author, Title, url\n",
        "2. \n",
        "3. "
      ]
    },
    {
      "cell_type": "markdown",
      "metadata": {
        "id": "JEWbcie_TO0q"
      },
      "source": [
        "### Specs:\n",
        "e.g. Your cpu version or GPU version, the memory size of your computer. Your pytorch software versions."
      ]
    }
  ]
}